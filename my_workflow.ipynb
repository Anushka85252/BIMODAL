{
  "cells": [
    {
      "cell_type": "code",
      "source": [
        "!nvidia-smi -L"
      ],
      "metadata": {
        "id": "pmAvmoFvM6uu",
        "outputId": "19c72afc-1258-48cb-8d8e-8aafad3dd230",
        "colab": {
          "base_uri": "https://localhost:8080/"
        }
      },
      "execution_count": null,
      "outputs": [
        {
          "output_type": "stream",
          "name": "stdout",
          "text": [
            "GPU 0: Tesla T4 (UUID: GPU-85ede608-6c98-22da-fba6-4028e0c0f223)\n"
          ]
        }
      ]
    },
    {
      "cell_type": "code",
      "source": [
        "!nvidia-smi"
      ],
      "metadata": {
        "id": "j_Huo76FNRdw",
        "outputId": "13b08ff4-9dc3-44f1-8383-bace675a4e5b",
        "colab": {
          "base_uri": "https://localhost:8080/"
        }
      },
      "execution_count": null,
      "outputs": [
        {
          "output_type": "stream",
          "name": "stdout",
          "text": [
            "Mon Mar 20 13:28:59 2023       \n",
            "+-----------------------------------------------------------------------------+\n",
            "| NVIDIA-SMI 525.85.12    Driver Version: 525.85.12    CUDA Version: 12.0     |\n",
            "|-------------------------------+----------------------+----------------------+\n",
            "| GPU  Name        Persistence-M| Bus-Id        Disp.A | Volatile Uncorr. ECC |\n",
            "| Fan  Temp  Perf  Pwr:Usage/Cap|         Memory-Usage | GPU-Util  Compute M. |\n",
            "|                               |                      |               MIG M. |\n",
            "|===============================+======================+======================|\n",
            "|   0  Tesla T4            Off  | 00000000:00:04.0 Off |                    0 |\n",
            "| N/A   63C    P0    28W /  70W |      0MiB / 15360MiB |      0%      Default |\n",
            "|                               |                      |                  N/A |\n",
            "+-------------------------------+----------------------+----------------------+\n",
            "                                                                               \n",
            "+-----------------------------------------------------------------------------+\n",
            "| Processes:                                                                  |\n",
            "|  GPU   GI   CI        PID   Type   Process name                  GPU Memory |\n",
            "|        ID   ID                                                   Usage      |\n",
            "|=============================================================================|\n",
            "|  No running processes found                                                 |\n",
            "+-----------------------------------------------------------------------------+\n"
          ]
        }
      ]
    },
    {
      "cell_type": "code",
      "source": [
        "!lscpu |grep 'Model name'"
      ],
      "metadata": {
        "id": "HxRQgWDJNcq-",
        "outputId": "826bd185-2faa-4266-86a7-c7ea2e3a4666",
        "colab": {
          "base_uri": "https://localhost:8080/"
        }
      },
      "execution_count": null,
      "outputs": [
        {
          "output_type": "stream",
          "name": "stdout",
          "text": [
            "Model name:                      Intel(R) Xeon(R) CPU @ 2.00GHz\n"
          ]
        }
      ]
    },
    {
      "cell_type": "code",
      "source": [],
      "metadata": {
        "id": "HofOhA1zNxq3"
      },
      "execution_count": null,
      "outputs": []
    },
    {
      "cell_type": "code",
      "source": [
        "!free -h --si \n"
      ],
      "metadata": {
        "id": "gcogZIKpNxsO",
        "outputId": "2e82da78-b60f-4500-cbb6-802dbb4a86ae",
        "colab": {
          "base_uri": "https://localhost:8080/"
        }
      },
      "execution_count": null,
      "outputs": [
        {
          "output_type": "stream",
          "name": "stdout",
          "text": [
            "              total        used        free      shared  buff/cache   available\n",
            "Mem:            12G        621M        9.2G        1.0M        3.1G         12G\n",
            "Swap:            0B          0B          0B\n"
          ]
        }
      ]
    },
    {
      "cell_type": "code",
      "metadata": {
        "id": "JWUGFeIvQi_x"
      },
      "source": [
        "# !cat /proc/version\n",
        "# !cat /proc/cpuinfo\n",
        "# !cat /proc/meminfo"
      ],
      "execution_count": null,
      "outputs": []
    },
    {
      "cell_type": "code",
      "source": [
        "!conda --version\n",
        "!which conda"
      ],
      "metadata": {
        "colab": {
          "base_uri": "https://localhost:8080/"
        },
        "id": "hjACNVG0wL_C",
        "outputId": "bba5bed6-cb62-4521-a04d-4be02834d336"
      },
      "execution_count": null,
      "outputs": [
        {
          "output_type": "stream",
          "name": "stdout",
          "text": [
            "/bin/bash: conda: command not found\n"
          ]
        }
      ]
    },
    {
      "cell_type": "code",
      "source": [
        "# Install conda now ...\n",
        "!pip install -q condacolab\n",
        "import condacolab\n",
        "condacolab.install()\n",
        "\n",
        "# Kernel would auto-restart now."
      ],
      "metadata": {
        "colab": {
          "base_uri": "https://localhost:8080/"
        },
        "id": "p13PuCGDplo2",
        "outputId": "f46b159b-6ba4-4a5a-b628-17ea9a7f4a7c"
      },
      "execution_count": null,
      "outputs": [
        {
          "output_type": "stream",
          "name": "stdout",
          "text": [
            "⏬ Downloading https://github.com/jaimergp/miniforge/releases/latest/download/Mambaforge-colab-Linux-x86_64.sh...\n",
            "📦 Installing...\n",
            "📌 Adjusting configuration...\n",
            "🩹 Patching environment...\n",
            "⏲ Done in 0:00:15\n",
            "🔁 Restarting kernel...\n"
          ]
        }
      ]
    },
    {
      "cell_type": "code",
      "source": [],
      "metadata": {
        "id": "R2LB8qfbxkGI"
      },
      "execution_count": null,
      "outputs": []
    },
    {
      "cell_type": "code",
      "source": [
        "!conda install -c conda-forge rdkit  "
      ],
      "metadata": {
        "id": "ua2uWn7e4hkq"
      },
      "execution_count": null,
      "outputs": []
    },
    {
      "cell_type": "code",
      "source": [
        "!git clone https://github.com/thava/BIMODAL.git"
      ],
      "metadata": {
        "id": "tVMJsUvV1z4U",
        "outputId": "2b9ccd4d-309f-4a16-96c6-93b0daf4238b",
        "colab": {
          "base_uri": "https://localhost:8080/"
        }
      },
      "execution_count": null,
      "outputs": [
        {
          "output_type": "stream",
          "name": "stdout",
          "text": [
            "Cloning into 'BIMODAL'...\n",
            "remote: Enumerating objects: 256, done.\u001b[K\n",
            "remote: Counting objects: 100% (64/64), done.\u001b[K\n",
            "remote: Compressing objects: 100% (44/44), done.\u001b[K\n",
            "remote: Total 256 (delta 42), reused 30 (delta 20), pack-reused 192\u001b[K\n",
            "Receiving objects: 100% (256/256), 311.88 MiB | 9.33 MiB/s, done.\n",
            "Resolving deltas: 100% (98/98), done.\n",
            "Updating files: 100% (87/87), done.\n"
          ]
        }
      ]
    },
    {
      "cell_type": "code",
      "source": [
        "!git pull"
      ],
      "metadata": {
        "id": "o5Xan7W5ZvIg",
        "outputId": "4d573b52-20a8-407e-bc12-22ec3d7636de",
        "colab": {
          "base_uri": "https://localhost:8080/"
        }
      },
      "execution_count": null,
      "outputs": [
        {
          "output_type": "stream",
          "name": "stdout",
          "text": [
            "Already up to date.\n"
          ]
        }
      ]
    },
    {
      "cell_type": "code",
      "source": [
        "!pwd ; ls -l"
      ],
      "metadata": {
        "id": "kaG-2vfoz9nt",
        "outputId": "cd694104-3ab7-41a8-e0b0-30d419096663",
        "colab": {
          "base_uri": "https://localhost:8080/"
        }
      },
      "execution_count": null,
      "outputs": [
        {
          "output_type": "stream",
          "name": "stdout",
          "text": [
            "/content\n",
            "total 32\n",
            "drwxr-xr-x 9 root root  4096 Mar 20 13:39 BIMODAL\n",
            "-rw-r--r-- 1 root root 20653 Mar 20 13:32 condacolab_install.log\n",
            "drwxr-xr-x 1 root root  4096 Mar 16 13:45 sample_data\n"
          ]
        }
      ]
    },
    {
      "cell_type": "code",
      "source": [
        "%cd BIMODAL/\n",
        "!ls -l"
      ],
      "metadata": {
        "id": "IQeBnr9h3Ecx",
        "outputId": "9541b813-137f-4ba2-b7fd-758012ae9e9a",
        "colab": {
          "base_uri": "https://localhost:8080/"
        }
      },
      "execution_count": null,
      "outputs": [
        {
          "output_type": "stream",
          "name": "stdout",
          "text": [
            "[Errno 2] No such file or directory: 'BIMODAL/'\n",
            "/content/BIMODAL\n",
            "total 60\n",
            "-rw-r--r--  1 root root   458 Mar 20 13:39 brnn.yml\n",
            "drwxr-xr-x  2 root root  4096 Mar 20 13:39 data\n",
            "drwxr-xr-x 24 root root  4096 Mar 20 13:39 evaluation\n",
            "drwxr-xr-x  2 root root  4096 Mar 20 13:39 experiments\n",
            "drwxr-xr-x  2 root root  4096 Mar 20 13:39 model\n",
            "-rw-r--r--  1 root root 12627 Mar 20 13:39 my_workflow.ipynb\n",
            "drwxr-xr-x  2 root root  4096 Mar 20 13:39 preprint\n",
            "drwxr-xr-x  2 root root  4096 Mar 20 13:39 preprocessing\n",
            "-rw-r--r--  1 root root 12524 Mar 20 13:39 README.md\n"
          ]
        }
      ]
    },
    {
      "cell_type": "code",
      "source": [
        "sys.path.append('.')\n"
      ],
      "metadata": {
        "id": "lslcZ8ObzVHX"
      },
      "execution_count": null,
      "outputs": []
    },
    {
      "cell_type": "code",
      "source": [
        "print(sys.path)"
      ],
      "metadata": {
        "id": "gt1qFnZZzgQ5",
        "outputId": "7e37739e-fb23-486d-a61e-7afd0ee685eb",
        "colab": {
          "base_uri": "https://localhost:8080/"
        }
      },
      "execution_count": null,
      "outputs": [
        {
          "output_type": "stream",
          "name": "stdout",
          "text": [
            "['/usr/local/lib/python3.9/site-packages', '/content', '/env/python', '/usr/lib/python39.zip', '/usr/lib/python3.9', '/usr/lib/python3.9/lib-dynload', '', '/usr/local/lib/python3.9/dist-packages', '/usr/lib/python3/dist-packages', '/usr/local/lib/python3.9/dist-packages/IPython/extensions', '/root/.ipython', '.']\n"
          ]
        }
      ]
    },
    {
      "cell_type": "code",
      "source": [
        "!git pull"
      ],
      "metadata": {
        "id": "FMQXfLwv9iGL",
        "outputId": "37b58c4d-8092-4820-b96b-0127493e8d1d",
        "colab": {
          "base_uri": "https://localhost:8080/"
        }
      },
      "execution_count": null,
      "outputs": [
        {
          "output_type": "stream",
          "name": "stdout",
          "text": [
            "remote: Enumerating objects: 7, done.\u001b[K\n",
            "remote: Counting objects:  14% (1/7)\u001b[K\rremote: Counting objects:  28% (2/7)\u001b[K\rremote: Counting objects:  42% (3/7)\u001b[K\rremote: Counting objects:  57% (4/7)\u001b[K\rremote: Counting objects:  71% (5/7)\u001b[K\rremote: Counting objects:  85% (6/7)\u001b[K\rremote: Counting objects: 100% (7/7)\u001b[K\rremote: Counting objects: 100% (7/7), done.\u001b[K\n",
            "remote: Compressing objects: 100% (1/1)\u001b[K\rremote: Compressing objects: 100% (1/1), done.\u001b[K\n",
            "remote: Total 4 (delta 3), reused 4 (delta 3), pack-reused 0\n",
            "Unpacking objects:  25% (1/4)\rUnpacking objects:  50% (2/4)\rUnpacking objects:  75% (3/4)\rUnpacking objects: 100% (4/4)\rUnpacking objects: 100% (4/4), 333 bytes | 333.00 KiB/s, done.\n",
            "From https://github.com/thava/BIMODAL\n",
            "   1c2f9ab..2a55352  master     -> origin/master\n",
            "Updating 1c2f9ab..2a55352\n",
            "Fast-forward\n",
            " experiments/BIMODAL_fixed_512.ini | 4 \u001b[32m++\u001b[m\u001b[31m--\u001b[m\n",
            " 1 file changed, 2 insertions(+), 2 deletions(-)\n"
          ]
        }
      ]
    },
    {
      "cell_type": "code",
      "source": [
        "# If you have modified the source code and want to reload the definition,\n",
        "# do something like the following ...\n",
        "# del Trainer\n",
        "import importlib\n",
        "from importlib import reload\n",
        "import trainer\n",
        "reload(trainer)\n",
        "import one_hot_encoder\n",
        "reload(one_hot_encoder)"
      ],
      "metadata": {
        "id": "1ZqDLtLx-KmV",
        "outputId": "b07abff0-66a6-4453-dfbd-152c853c1f6d",
        "colab": {
          "base_uri": "https://localhost:8080/"
        }
      },
      "execution_count": null,
      "outputs": [
        {
          "output_type": "execute_result",
          "data": {
            "text/plain": [
              "<module 'trainer' from '/content/BIMODAL/model/trainer.py'>"
            ]
          },
          "metadata": {},
          "execution_count": 31
        }
      ]
    },
    {
      "cell_type": "code",
      "source": [
        "!ls -l data"
      ],
      "metadata": {
        "id": "L470IEHwQzEA",
        "outputId": "f3ea851b-7b27-4eb8-a9b6-d0d6f4cd3a71",
        "colab": {
          "base_uri": "https://localhost:8080/"
        }
      },
      "execution_count": null,
      "outputs": [
        {
          "output_type": "stream",
          "name": "stdout",
          "text": [
            "total 163128\n",
            "-rw-r--r-- 1 root root 41770848 Mar 20 13:39 chembl_smiles.csv\n",
            "-rw-r--r-- 1 root root  2654976 Mar 20 13:39 chembl_smiles.tar.xz\n",
            "-rw-r--r-- 1 root root 19692180 Mar 20 13:39 SMILES_BIMODAL_FBRNN_aug_10.tar.xz\n",
            "-rw-r--r-- 1 root root  1948688 Mar 20 13:39 SMILES_BIMODAL_FBRNN_fixed.tar.xz\n",
            "-rw-r--r-- 1 root root 11039568 Mar 20 13:39 SMILES_BIMODAL_FBRNN_random_aug_5.tar.xz\n",
            "-rw-r--r-- 1 root root  3053872 Mar 20 13:39 SMILES_BIMODAL_FBRNN_random.tar.xz\n",
            "-rw-r--r-- 1 root root  1451860 Mar 20 13:39 SMILES_ForwardRNN.tar.xz\n",
            "-rw-r--r-- 1 root root  1631068 Mar 20 13:39 SMILES_NADE_fixed.tar.xz\n",
            "-rw-r--r-- 1 root root 39218504 Mar 20 13:39 SMILES_NADE_random_aug_10.tar.xz\n",
            "-rw-r--r-- 1 root root 39218888 Mar 20 13:39 SMILES_NADE_random_aug_5.tar.xz\n",
            "-rw-r--r-- 1 root root  5345180 Mar 20 13:39 SMILES_NADE_random.tar.xz\n"
          ]
        }
      ]
    },
    {
      "cell_type": "code",
      "source": [
        "!pwd;\n",
        "%cd preprocessing\n",
        "!pwd;"
      ],
      "metadata": {
        "id": "qrRs7k26EAxO",
        "outputId": "c3470afe-2be5-48d7-eb09-cea657278c2a",
        "colab": {
          "base_uri": "https://localhost:8080/"
        }
      },
      "execution_count": null,
      "outputs": [
        {
          "output_type": "stream",
          "name": "stdout",
          "text": [
            "/content/BIMODAL\n",
            "/content/BIMODAL/preprocessing\n",
            "/content/BIMODAL/preprocessing\n"
          ]
        }
      ]
    },
    {
      "cell_type": "code",
      "source": [
        "from main_preprocessor import preprocess_data"
      ],
      "metadata": {
        "id": "G4LPfrSSye5T",
        "outputId": "b8de4159-abb0-4313-ce63-fa8d1097dc1c",
        "colab": {
          "base_uri": "https://localhost:8080/"
        }
      },
      "execution_count": null,
      "outputs": [
        {
          "output_type": "stream",
          "name": "stderr",
          "text": [
            "/content/BIMODAL/preprocessing/main_preprocessor.py:57: SyntaxWarning: \"is\" with a literal. Did you mean \"==\"?\n",
            "  if augmentation > 1 and starting_point is 'fixed':  # removes augmentation for fixed starting point\n",
            "/content/BIMODAL/preprocessing/main_preprocessor.py:62: SyntaxWarning: \"is\" with a literal. Did you mean \"==\"?\n",
            "  if filename_out is '':\n"
          ]
        }
      ]
    },
    {
      "cell_type": "code",
      "source": [
        "preprocess_data()"
      ],
      "metadata": {
        "id": "JE4p_P8A3uxD",
        "outputId": "9b360fc4-06fd-4637-ac30-58598cf733b6",
        "colab": {
          "base_uri": "https://localhost:8080/"
        }
      },
      "execution_count": null,
      "outputs": [
        {
          "output_type": "stream",
          "name": "stdout",
          "text": [
            "Pre-processing of \"../data/chembl_smiles\" started.\n",
            " invalid SMILES - removed.\n",
            " duplicate SMILES - removed.\n",
            " salts - removed.\n",
            " stereochemistry - removed.\n",
            " canonicalized SMILES.\n",
            "Data processed saved\n"
          ]
        }
      ]
    },
    {
      "cell_type": "code",
      "source": [
        "!ls -lthr ../data/"
      ],
      "metadata": {
        "id": "ZSE2rnQIGAeX",
        "outputId": "671bc263-6d19-493b-8c75-9d56189a9f5b",
        "colab": {
          "base_uri": "https://localhost:8080/"
        }
      },
      "execution_count": null,
      "outputs": [
        {
          "output_type": "stream",
          "name": "stdout",
          "text": [
            "total 180M\n",
            "-rw-r--r-- 1 root root  19M Mar 19 07:53 SMILES_BIMODAL_FBRNN_aug_10.tar.xz\n",
            "-rw-r--r-- 1 root root 1.9M Mar 19 07:53 SMILES_BIMODAL_FBRNN_fixed.tar.xz\n",
            "-rw-r--r-- 1 root root 3.0M Mar 19 07:53 SMILES_BIMODAL_FBRNN_random.tar.xz\n",
            "-rw-r--r-- 1 root root  11M Mar 19 07:53 SMILES_BIMODAL_FBRNN_random_aug_5.tar.xz\n",
            "-rw-r--r-- 1 root root 1.4M Mar 19 07:53 SMILES_ForwardRNN.tar.xz\n",
            "-rw-r--r-- 1 root root 1.6M Mar 19 07:53 SMILES_NADE_fixed.tar.xz\n",
            "-rw-r--r-- 1 root root 5.1M Mar 19 07:53 SMILES_NADE_random.tar.xz\n",
            "-rw-r--r-- 1 root root  38M Mar 19 07:53 SMILES_NADE_random_aug_10.tar.xz\n",
            "-rw-r--r-- 1 root root  38M Mar 19 07:53 SMILES_NADE_random_aug_5.tar.xz\n",
            "-rw-r--r-- 1 root root  40M Mar 19 07:53 chembl_smiles.csv\n",
            "-rw-r--r-- 1 root root 2.6M Mar 19 07:53 chembl_smiles.tar.xz\n",
            "-rw-r--r-- 1 root root  21M Mar 19 08:58 chembl_smiles_BIMODAL_fixed.csv\n"
          ]
        }
      ]
    },
    {
      "cell_type": "code",
      "source": [
        "%cd ../model"
      ],
      "metadata": {
        "id": "3Qnvyd6QRmc_",
        "outputId": "515a82be-3135-4bca-f5bb-2a7069d527c6",
        "colab": {
          "base_uri": "https://localhost:8080/"
        }
      },
      "execution_count": null,
      "outputs": [
        {
          "output_type": "stream",
          "name": "stdout",
          "text": [
            "[Errno 2] No such file or directory: 'model'\n",
            "/content/BIMODAL/model\n"
          ]
        }
      ]
    },
    {
      "cell_type": "code",
      "source": [
        "!python -c  'import sys; print(sys.path)'"
      ],
      "metadata": {
        "id": "DNceQyRSdORj",
        "outputId": "4f56d5ab-84c9-4f25-830f-fa238000ef46",
        "colab": {
          "base_uri": "https://localhost:8080/"
        }
      },
      "execution_count": null,
      "outputs": [
        {
          "output_type": "stream",
          "name": "stdout",
          "text": [
            "['', '/env/python', '/usr/local/lib/python39.zip', '/usr/local/lib/python3.9', '/usr/local/lib/python3.9/lib-dynload', '/usr/local/lib/python3.9/site-packages']\n"
          ]
        }
      ]
    },
    {
      "cell_type": "code",
      "source": [
        "print(sys.path)"
      ],
      "metadata": {
        "id": "X_kL2ysIfvIu",
        "outputId": "be6b5573-af6c-467a-e331-4947d00646de",
        "colab": {
          "base_uri": "https://localhost:8080/"
        }
      },
      "execution_count": null,
      "outputs": [
        {
          "output_type": "stream",
          "name": "stdout",
          "text": [
            "['/usr/local/lib/python3.9/site-packages', '/content', '/env/python', '/usr/lib/python39.zip', '/usr/lib/python3.9', '/usr/lib/python3.9/lib-dynload', '', '/usr/local/lib/python3.9/dist-packages', '/usr/lib/python3/dist-packages', '/usr/local/lib/python3.9/dist-packages/IPython/extensions', '/root/.ipython', '.']\n"
          ]
        }
      ]
    },
    {
      "cell_type": "code",
      "source": [
        "!ls -l ../data"
      ],
      "metadata": {
        "id": "mQ4AVZUbTol0",
        "outputId": "920db689-1e48-4927-e5ef-ba6bfcfa6bf0",
        "colab": {
          "base_uri": "https://localhost:8080/"
        }
      },
      "execution_count": null,
      "outputs": [
        {
          "output_type": "stream",
          "name": "stdout",
          "text": [
            "total 163128\n",
            "-rw-r--r-- 1 root root 41770848 Mar 20 13:39 chembl_smiles.csv\n",
            "-rw-r--r-- 1 root root  2654976 Mar 20 13:39 chembl_smiles.tar.xz\n",
            "-rw-r--r-- 1 root root 19692180 Mar 20 13:39 SMILES_BIMODAL_FBRNN_aug_10.tar.xz\n",
            "-rw-r--r-- 1 root root  1948688 Mar 20 13:39 SMILES_BIMODAL_FBRNN_fixed.tar.xz\n",
            "-rw-r--r-- 1 root root 11039568 Mar 20 13:39 SMILES_BIMODAL_FBRNN_random_aug_5.tar.xz\n",
            "-rw-r--r-- 1 root root  3053872 Mar 20 13:39 SMILES_BIMODAL_FBRNN_random.tar.xz\n",
            "-rw-r--r-- 1 root root  1451860 Mar 20 13:39 SMILES_ForwardRNN.tar.xz\n",
            "-rw-r--r-- 1 root root  1631068 Mar 20 13:39 SMILES_NADE_fixed.tar.xz\n",
            "-rw-r--r-- 1 root root 39218504 Mar 20 13:39 SMILES_NADE_random_aug_10.tar.xz\n",
            "-rw-r--r-- 1 root root 39218888 Mar 20 13:39 SMILES_NADE_random_aug_5.tar.xz\n",
            "-rw-r--r-- 1 root root  5345180 Mar 20 13:39 SMILES_NADE_random.tar.xz\n"
          ]
        }
      ]
    },
    {
      "cell_type": "code",
      "source": [
        "# Training\n",
        "from trainer import Trainer\n",
        "import os\n",
        "print('Starting Training... ', os.getcwd())\n",
        "t = Trainer(experiment_name = 'BIMODAL_fixed_512')\n",
        "print('Start cross validation')\n",
        "t.cross_validation(stor_dir = '../evaluation/', restart = False)"
      ],
      "metadata": {
        "colab": {
          "base_uri": "https://localhost:8080/"
        },
        "id": "sRrNA40JGKV7",
        "outputId": "1a68fb7d-c29a-4082-d925-9228f8259f5c"
      },
      "execution_count": null,
      "outputs": [
        {
          "output_type": "stream",
          "name": "stdout",
          "text": [
            "Starting Training...  /content/BIMODAL/model\n",
            "GPU available\n"
          ]
        },
        {
          "output_type": "stream",
          "name": "stderr",
          "text": [
            "/usr/local/lib/python3.9/dist-packages/sklearn/preprocessing/_encoders.py:868: FutureWarning: `sparse` was renamed to `sparse_output` in version 1.2 and will be removed in 1.4. `sparse_output` is ignored unless you leave `sparse` to its default value.\n",
            "  warnings.warn(\n"
          ]
        },
        {
          "output_type": "stream",
          "name": "stdout",
          "text": [
            "(271915, 1)\n"
          ]
        },
        {
          "output_type": "stream",
          "name": "stderr",
          "text": [
            "/usr/local/lib/python3.9/dist-packages/sklearn/preprocessing/_encoders.py:868: FutureWarning: `sparse` was renamed to `sparse_output` in version 1.2 and will be removed in 1.4. `sparse_output` is ignored unless you leave `sparse` to its default value.\n",
            "  warnings.warn(\n"
          ]
        },
        {
          "output_type": "stream",
          "name": "stdout",
          "text": [
            "Start cross validation\n",
            "Fold: 1\n",
            "Epoch: 0\n",
            "Fold: 1\n",
            "Epoch: 1\n",
            "Fold: 2\n",
            "Epoch: 0\n",
            "Fold: 2\n",
            "Epoch: 1\n"
          ]
        }
      ]
    },
    {
      "cell_type": "code",
      "source": [],
      "metadata": {
        "id": "l-XceafkUUNQ"
      },
      "execution_count": null,
      "outputs": []
    }
  ],
  "metadata": {
    "kernelspec": {
      "display_name": "Python 3",
      "language": "python",
      "name": "python3"
    },
    "language_info": {
      "codemirror_mode": {
        "name": "ipython",
        "version": 3
      },
      "file_extension": ".py",
      "mimetype": "text/x-python",
      "name": "python",
      "nbconvert_exporter": "python",
      "pygments_lexer": "ipython3",
      "version": "3.6.4"
    },
    "colab": {
      "provenance": []
    },
    "accelerator": "GPU",
    "gpuClass": "standard"
  },
  "nbformat": 4,
  "nbformat_minor": 0
}