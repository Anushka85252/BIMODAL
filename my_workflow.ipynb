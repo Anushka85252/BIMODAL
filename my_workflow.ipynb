{
  "cells": [
    {
      "cell_type": "markdown",
      "metadata": {
        "id": "view-in-github",
        "colab_type": "text"
      },
      "source": [
        "<a href=\"https://colab.research.google.com/github/thava/BIMODAL/blob/master/my_workflow.ipynb\" target=\"_parent\"><img src=\"https://colab.research.google.com/assets/colab-badge.svg\" alt=\"Open In Colab\"/></a>"
      ]
    },
    {
      "cell_type": "code",
      "execution_count": 9,
      "metadata": {
        "colab": {
          "base_uri": "https://localhost:8080/"
        },
        "id": "DACIj3M4fS0e",
        "outputId": "52b8548a-4629-4aaa-da40-8c86e29c29c5"
      },
      "outputs": [
        {
          "output_type": "stream",
          "name": "stderr",
          "text": [
            "<>:51: SyntaxWarning: \"is\" with a literal. Did you mean \"==\"?\n",
            "<>:54: SyntaxWarning: \"is\" with a literal. Did you mean \"==\"?\n",
            "<>:51: SyntaxWarning: \"is\" with a literal. Did you mean \"==\"?\n",
            "<>:54: SyntaxWarning: \"is\" with a literal. Did you mean \"==\"?\n",
            "<ipython-input-9-fad667c4be12>:51: SyntaxWarning: \"is\" with a literal. Did you mean \"==\"?\n",
            "  if augmentation > 1 and starting_point is 'fixed':  # removes augmentation for fixed starting point\n",
            "<ipython-input-9-fad667c4be12>:54: SyntaxWarning: \"is\" with a literal. Did you mean \"==\"?\n",
            "  if filename_out is '':\n"
          ]
        }
      ],
      "source": [
        "def preprocess_data(filename_in='../data/chembl_smiles', filename_out='', model_type='BIMODAL', starting_point='fixed',\n",
        "                    invalid=True, duplicates=True, salts=True, stereochem=True, canonicalize=True, min_len=34,\n",
        "                    max_len=74, augmentation=1):\n",
        "    \"\"\"Pre-processing of SMILES based on the user-defined parameters\n",
        "        :param filename_in     path to the file containing the SMILES to pretreat (SMILES only) -- default = ChEMBL\n",
        "        :param filename_out    path for file export -- default = ../data/\n",
        "        :param model_type      model to be used after data preparation -- default = 'BIMODAL'\n",
        "        :param starting_point  starting point for training -- default = 'fixed'\n",
        "        :param invalid         if True (default), removes invalid SMILES\n",
        "        :param duplicates      if True (default), removes duplicates\n",
        "        :param salts           if True (default), removes salts\n",
        "        :param stereochem      if True (default), removes stereochemistry\n",
        "        :param canonicalize    if True (default), produces canonical SMILES\n",
        "        :param max_len         maximum length of the SMILES to retain after pretreatment\n",
        "        :param min_len         minimum length of the SMILES to retain after pretreatment\n",
        "        :param augmentation    augmentation folds\n",
        "        :return:\n",
        "    FG, v1\n",
        "    \"\"\"\n",
        "    from preprocessor import Preprocessor\n",
        "    p = Preprocessor(filename_in)\n",
        "    print('Pre-processing of \"' + filename_in + '\" started.')\n",
        "\n",
        "    # user-defined pretreatment\n",
        "    if invalid:\n",
        "        p.remove_not_valid()\n",
        "        print(' invalid SMILES - removed.')\n",
        "    if duplicates:\n",
        "        p.remove_duplicates()\n",
        "        print(' duplicate SMILES - removed.')\n",
        "    if salts:\n",
        "        p.remove_salts()\n",
        "        print(' salts - removed.')\n",
        "    if stereochem:\n",
        "        p.remove_stereochem()\n",
        "        print(' stereochemistry - removed.')\n",
        "    if canonicalize:\n",
        "        p.canonicalize()\n",
        "        print(' canonicalized SMILES.')\n",
        "\n",
        "    # retains SMILES in the defined-length\n",
        "    p.remove_length(min_len, max_len)\n",
        "\n",
        "    # prepares the data based on the method type\n",
        "    dataname = filename_in.split('/')[-1]\n",
        "    \n",
        "    if model_type == \"ForwardRNN\":\n",
        "        name = model_type\n",
        "    else:\n",
        "        name = model_type + \"_\" + starting_point\n",
        "        if augmentation > 1 and starting_point is 'fixed':  # removes augmentation for fixed starting point\n",
        "            augmentation = 1\n",
        "    p.preprocess(name, aug=augmentation, length=max_len)\n",
        "    if filename_out is '':\n",
        "        filename_out = '../data/' + dataname + '_' + name + '.csv'\n",
        "\n",
        "    # Store new file\n",
        "    p.save_data(filename_out)\n",
        "    \n",
        "    print('Data processed saved')\n"
      ]
    },
    {
      "cell_type": "code",
      "source": [
        "# !conda --version\n",
        "# Install conda now ...\n",
        "# !pip install -q condacolab\n",
        "# import condacolab\n",
        "# condacolab.install()\n",
        "\n",
        "# Kernel would auto-restart now."
      ],
      "metadata": {
        "colab": {
          "base_uri": "https://localhost:8080/"
        },
        "id": "p13PuCGDplo2",
        "outputId": "c41031bb-f8da-4632-a9fc-b7e0b4bb5946"
      },
      "execution_count": 3,
      "outputs": [
        {
          "output_type": "stream",
          "name": "stdout",
          "text": [
            "⏬ Downloading https://github.com/jaimergp/miniforge/releases/latest/download/Mambaforge-colab-Linux-x86_64.sh...\n",
            "📦 Installing...\n",
            "📌 Adjusting configuration...\n",
            "🩹 Patching environment...\n",
            "⏲ Done in 0:00:12\n",
            "🔁 Restarting kernel...\n"
          ]
        }
      ]
    },
    {
      "cell_type": "code",
      "source": [
        "!conda --version\n",
        "!which conda"
      ],
      "metadata": {
        "colab": {
          "base_uri": "https://localhost:8080/"
        },
        "id": "hjACNVG0wL_C",
        "outputId": "6c34565d-f328-4eb2-d2fc-e6ef196caac4"
      },
      "execution_count": 1,
      "outputs": [
        {
          "output_type": "stream",
          "name": "stdout",
          "text": [
            "conda 22.11.1\n",
            "/usr/local/bin/conda\n",
            "['/usr/local/lib/python3.9/site-packages', '/content', '/env/python', '/usr/lib/python39.zip', '/usr/lib/python3.9', '/usr/lib/python3.9/lib-dynload', '', '/usr/local/lib/python3.9/dist-packages', '/usr/lib/python3/dist-packages', '/usr/local/lib/python3.9/dist-packages/IPython/extensions', '/root/.ipython']\n"
          ]
        }
      ]
    },
    {
      "cell_type": "code",
      "source": [],
      "metadata": {
        "id": "R2LB8qfbxkGI"
      },
      "execution_count": null,
      "outputs": []
    },
    {
      "cell_type": "code",
      "metadata": {
        "id": "JWUGFeIvQi_x"
      },
      "source": [
        "# !cat /proc/version\n",
        "# !cat /proc/cpuinfo\n",
        "# !cat /proc/meminfo"
      ],
      "execution_count": 7,
      "outputs": []
    },
    {
      "cell_type": "code",
      "source": [
        "sys.path.append('.')\n"
      ],
      "metadata": {
        "id": "lslcZ8ObzVHX"
      },
      "execution_count": 11,
      "outputs": []
    },
    {
      "cell_type": "code",
      "source": [
        "print(sys.path)"
      ],
      "metadata": {
        "id": "gt1qFnZZzgQ5",
        "outputId": "a06a909d-a860-4404-8dde-b0588c5eb477",
        "colab": {
          "base_uri": "https://localhost:8080/"
        }
      },
      "execution_count": 12,
      "outputs": [
        {
          "output_type": "stream",
          "name": "stdout",
          "text": [
            "['/usr/local/lib/python3.9/site-packages', '/content', '/env/python', '/usr/lib/python39.zip', '/usr/lib/python3.9', '/usr/lib/python3.9/lib-dynload', '', '/usr/local/lib/python3.9/dist-packages', '/usr/lib/python3/dist-packages', '/usr/local/lib/python3.9/dist-packages/IPython/extensions', '/root/.ipython', '.']\n"
          ]
        }
      ]
    },
    {
      "cell_type": "code",
      "source": [
        "!pwd ; ls -l"
      ],
      "metadata": {
        "id": "kaG-2vfoz9nt",
        "outputId": "be73cee4-c945-46e7-a1ed-469683736a42",
        "colab": {
          "base_uri": "https://localhost:8080/"
        }
      },
      "execution_count": 15,
      "outputs": [
        {
          "output_type": "stream",
          "name": "stdout",
          "text": [
            "/content\n",
            "total 28\n",
            "-rw-r--r-- 1 root root 20653 Mar 19 07:23 condacolab_install.log\n",
            "drwxr-xr-x 1 root root  4096 Mar 16 13:45 sample_data\n"
          ]
        }
      ]
    },
    {
      "cell_type": "code",
      "source": [
        "preprocess_data()"
      ],
      "metadata": {
        "id": "G4LPfrSSye5T",
        "outputId": "216c95fb-2de3-41ae-d5b2-80710f8784eb",
        "colab": {
          "base_uri": "https://localhost:8080/",
          "height": 444
        }
      },
      "execution_count": 13,
      "outputs": [
        {
          "output_type": "error",
          "ename": "ModuleNotFoundError",
          "evalue": "ignored",
          "traceback": [
            "\u001b[0;31m---------------------------------------------------------------------------\u001b[0m",
            "\u001b[0;31mModuleNotFoundError\u001b[0m                       Traceback (most recent call last)",
            "\u001b[0;32m<ipython-input-13-99b64d15efaa>\u001b[0m in \u001b[0;36m<module>\u001b[0;34m\u001b[0m\n\u001b[0;32m----> 1\u001b[0;31m \u001b[0mpreprocess_data\u001b[0m\u001b[0;34m(\u001b[0m\u001b[0;34m)\u001b[0m\u001b[0;34m\u001b[0m\u001b[0;34m\u001b[0m\u001b[0m\n\u001b[0m",
            "\u001b[0;32m<ipython-input-9-fad667c4be12>\u001b[0m in \u001b[0;36mpreprocess_data\u001b[0;34m(filename_in, filename_out, model_type, starting_point, invalid, duplicates, salts, stereochem, canonicalize, min_len, max_len, augmentation)\u001b[0m\n\u001b[1;32m     18\u001b[0m     \u001b[0mFG\u001b[0m\u001b[0;34m,\u001b[0m \u001b[0mv1\u001b[0m\u001b[0;34m\u001b[0m\u001b[0;34m\u001b[0m\u001b[0m\n\u001b[1;32m     19\u001b[0m     \"\"\"\n\u001b[0;32m---> 20\u001b[0;31m     \u001b[0;32mfrom\u001b[0m \u001b[0mpreprocessor\u001b[0m \u001b[0;32mimport\u001b[0m \u001b[0mPreprocessor\u001b[0m\u001b[0;34m\u001b[0m\u001b[0;34m\u001b[0m\u001b[0m\n\u001b[0m\u001b[1;32m     21\u001b[0m     \u001b[0mp\u001b[0m \u001b[0;34m=\u001b[0m \u001b[0mPreprocessor\u001b[0m\u001b[0;34m(\u001b[0m\u001b[0mfilename_in\u001b[0m\u001b[0;34m)\u001b[0m\u001b[0;34m\u001b[0m\u001b[0;34m\u001b[0m\u001b[0m\n\u001b[1;32m     22\u001b[0m     \u001b[0mprint\u001b[0m\u001b[0;34m(\u001b[0m\u001b[0;34m'Pre-processing of \"'\u001b[0m \u001b[0;34m+\u001b[0m \u001b[0mfilename_in\u001b[0m \u001b[0;34m+\u001b[0m \u001b[0;34m'\" started.'\u001b[0m\u001b[0;34m)\u001b[0m\u001b[0;34m\u001b[0m\u001b[0;34m\u001b[0m\u001b[0m\n",
            "\u001b[0;31mModuleNotFoundError\u001b[0m: No module named 'preprocessor'",
            "",
            "\u001b[0;31m---------------------------------------------------------------------------\u001b[0;32m\nNOTE: If your import is failing due to a missing package, you can\nmanually install dependencies using either !pip or !apt.\n\nTo view examples of installing some common dependencies, click the\n\"Open Examples\" button below.\n\u001b[0;31m---------------------------------------------------------------------------\u001b[0m\n"
          ],
          "errorDetails": {
            "actions": [
              {
                "action": "open_url",
                "actionText": "Open Examples",
                "url": "/notebooks/snippets/importing_libraries.ipynb"
              }
            ]
          }
        }
      ]
    }
  ],
  "metadata": {
    "kernelspec": {
      "display_name": "Python 3",
      "language": "python",
      "name": "python3"
    },
    "language_info": {
      "codemirror_mode": {
        "name": "ipython",
        "version": 3
      },
      "file_extension": ".py",
      "mimetype": "text/x-python",
      "name": "python",
      "nbconvert_exporter": "python",
      "pygments_lexer": "ipython3",
      "version": "3.6.4"
    },
    "colab": {
      "provenance": [],
      "include_colab_link": true
    },
    "accelerator": "GPU",
    "gpuClass": "standard"
  },
  "nbformat": 4,
  "nbformat_minor": 0
}